{
 "cells": [
  {
   "cell_type": "code",
   "execution_count": 1,
   "metadata": {},
   "outputs": [],
   "source": [
    "import numpy as np\n",
    "import pandas as pd\n",
    "import matplotlib.pyplot as plt\n",
    "import cv2\n",
    "\n",
    "import keras as k\n",
    "from keras.layers import Conv2D, UpSampling2D, InputLayer\n",
    "\n",
    "# Придется юзать PIL, т.к. в opencv нет нужных шрифтов\n",
    "from PIL import ImageFont, ImageDraw, Image\n",
    "\n",
    "### Тессеракт в самом низу"
   ]
  },
  {
   "cell_type": "code",
   "execution_count": 2,
   "metadata": {},
   "outputs": [],
   "source": [
    "# Препроцессинг изображений\n",
    "n_examples = 40\n",
    "\n",
    "img_list = []\n",
    "img_str_list = []\n",
    "\n",
    "# Количество строк в файле\n",
    "n_str = 24\n",
    "str_height = 0 # Присваивается в цикле\n",
    "\n",
    "### Лист массивов строк с каждого изображения\n",
    "for i in range(n_examples):\n",
    "    # Исходное изображение\n",
    "    img = cv2.imread(\"Train\\\\source_\" + str(i) + '.png')\n",
    "    # В черно-белое\n",
    "    img = cv2.cvtColor(img, cv2.COLOR_BGR2GRAY)\n",
    "    # В rgb\n",
    "    #img = cv2.cvtColor(img, cv2.COLOR_BGR2RGB)\n",
    "    # Режем на строки\n",
    "    # Высота строки в пикселях\n",
    "    str_height = img.shape[0] // n_str\n",
    "    str_height -= 1 # Компенсируем то, что внизу большое пространство и получается неровно\n",
    "    # Массив строк\n",
    "    str_arr = np.ndarray((n_str, str_height, img.shape[1]))\n",
    "    for i in range(n_str):\n",
    "        #print(i, i+str_height)\n",
    "        str_arr[i] = img[i*str_height : (i+1)*str_height]\n",
    "    # Добавляем в лист\n",
    "    img_str_list.append(str_arr)\n",
    "    img_list.append(img)\n"
   ]
  },
  {
   "cell_type": "code",
   "execution_count": 3,
   "metadata": {
    "scrolled": true
   },
   "outputs": [
    {
     "data": {
      "image/png": "[encoded data removed]",
      "text/plain": [
       "<Figure size 432x288 with 1 Axes>"
      ]
     },
     "metadata": {
      "needs_background": "light"
     },
     "output_type": "display_data"
    }
   ],
   "source": [
    "# Пример строки\n",
    "plt.imshow(img_str_list[0][0],cmap='gray')\n",
    "plt.show()\n",
    "\n",
    "#cv2.imshow(\"Image\", img_list[1])\n",
    "#cv2.waitKey()\n",
    "#cv2.destroyAllWindows()"
   ]
  },
  {
   "cell_type": "code",
   "execution_count": 4,
   "metadata": {},
   "outputs": [
    {
     "data": {
      "text/plain": [
       "['Departure so attention pronounce satisfied daughters',\n",
       " 'am But shy tedious pressed studied opinion entered',\n",
       " 'windows off Advantage dependent suspicion convinced',\n",
       " 'provision him yet Timed balls match at by rooms we Fat',\n",
       " 'not boy neat left had with past here call Court nay',\n",
       " 'merit few nor party learn Why our year her eyes know',\n",
       " 'even how Mr immediate remaining conveying allowance do',\n",
       " 'or',\n",
       " 'Behaviour we improving at something to Evil true high',\n",
       " 'lady roof men had open To projection considered it',\n",
       " 'precaution an melancholy or Wound young you thing',\n",
       " 'worse along being ham Dissimilar of favourable',\n",
       " 'solicitude if sympathize middletons at Forfeited up if',\n",
       " 'disposing perfectly in an eagerness perceived',\n",
       " 'necessary Belonging sir curiosity discovery extremity',\n",
       " 'yet forfeited prevailed own off Travelling by',\n",
       " 'introduced of mr terminated Knew as miss my high hope',\n",
       " 'quit In curiosity shameless dependent knowledge',\n",
       " 'up',\n",
       " 'Had denoting properly jointure you occasion directly',\n",
       " 'raillery In said to of poor full be post face snug',\n",
       " 'Introduced imprudence see say unpleasing devonshire',\n",
       " 'acceptance son Exeter longer wisdom gay nor design age',\n",
       " 'Am weather to entered norland no in showing service']"
      ]
     },
     "execution_count": 4,
     "metadata": {},
     "output_type": "execute_result"
    }
   ],
   "source": [
    "# Аналогично лист листов строк с каждого изображения\n",
    "str_list = []\n",
    "for i in range(n_examples):\n",
    "    # Весь файл с текстом\n",
    "    file_name = 'Train\\\\source_' + str(i) + '.txt'\n",
    "    #file = open()\n",
    "    #lines = file.read().split_lines()\n",
    "    #file.close()    \n",
    "    with open(file_name) as f:\n",
    "        lines = [line.rstrip() for line in f]\n",
    "    str_list.append(lines)\n",
    "    \n",
    "str_list[0]"
   ]
  },
  {
   "cell_type": "code",
   "execution_count": 5,
   "metadata": {},
   "outputs": [],
   "source": [
    "### Попробуем сгенерировать из текста выходные изображения\n",
    "\n",
    "# PIL из-за шрифтов\n",
    "# Шрифт угадан на myfonts.com/WhatTheFont\n",
    "fontpath = \"fonts//TimesNewRomanPS.otf\"     \n",
    "font = ImageFont.truetype(fontpath, 50)\n",
    "\n",
    "# Аналогично лист массивов строк для каждого текстовго файла\n",
    "img_out_list = []\n",
    "for lines in str_list:\n",
    "    # Размеры массива изображений строк такие же, как исходные\n",
    "    img_out_arr = np.ndarray(img_str_list[0].shape)\n",
    "    for i, line in enumerate(lines):\n",
    "        img_temp = np.ndarray(img_str_list[0][0].shape)\n",
    "        img_temp.fill(255)\n",
    "        img_pil = Image.fromarray(img_temp)\n",
    "        # Непосредственно добавляем текст\n",
    "        draw = ImageDraw.Draw(img_pil)\n",
    "        # в скобках координаты угла надписи\n",
    "        draw.text((1, 0),  line  , font = font, fill = (0))\n",
    "        # И обратно в numpy\n",
    "        img_out_arr[i] = np.array(img_pil)\n",
    "    img_out_list.append(img_out_arr)"
   ]
  },
  {
   "cell_type": "code",
   "execution_count": 6,
   "metadata": {},
   "outputs": [
    {
     "data": {
      "image/png": "[encoded data removed]",
      "text/plain": [
       "<Figure size 432x288 with 1 Axes>"
      ]
     },
     "metadata": {
      "needs_background": "light"
     },
     "output_type": "display_data"
    }
   ],
   "source": [
    "# Пример полученной строки\n",
    "test_out = img_out_list[2][-4]\n",
    "plt.imshow(test_out,cmap='gray')\n",
    "plt.show()"
   ]
  },
  {
   "cell_type": "code",
   "execution_count": 7,
   "metadata": {},
   "outputs": [
    {
     "data": {
      "image/png": "[encoded data removed]",
      "text/plain": [
       "<Figure size 432x288 with 1 Axes>"
      ]
     },
     "metadata": {
      "needs_background": "light"
     },
     "output_type": "display_data"
    }
   ],
   "source": [
    "# Что имели до того\n",
    "test_in = img_str_list[2][-4]\n",
    "plt.imshow(test_in,cmap='gray')\n",
    "plt.show()"
   ]
  },
  {
   "cell_type": "code",
   "execution_count": 8,
   "metadata": {},
   "outputs": [
    {
     "data": {
      "image/png": "[encoded data removed]",
      "text/plain": [
       "<Figure size 432x288 with 1 Axes>"
      ]
     },
     "metadata": {
      "needs_background": "light"
     },
     "output_type": "display_data"
    }
   ],
   "source": [
    "# Наглядно посмотрим в чем разница между сгенерированной и имеющейся\n",
    "\n",
    "img_str_diff = 255-np.abs(test_out - test_in)\n",
    "\n",
    "plt.imshow(img_str_diff,cmap='gray')\n",
    "plt.show()\n",
    "\n",
    "#cv2.imshow(\"Image\", img_str_diff)\n",
    "#cv2.waitKey()\n",
    "#cv2.destroyAllWindows()"
   ]
  },
  {
   "cell_type": "code",
   "execution_count": 9,
   "metadata": {},
   "outputs": [
    {
     "ename": "ValueError",
     "evalue": "maximum supported dimension for an ndarray is 32, found 40",
     "output_type": "error",
     "traceback": [
      "\u001b[1;31m---------------------------------------------------------------------------\u001b[0m",
      "\u001b[1;31mValueError\u001b[0m                                Traceback (most recent call last)",
      "\u001b[1;32m<ipython-input-9-dfd55ecbe5ca>\u001b[0m in \u001b[0;36m<module>\u001b[1;34m\u001b[0m\n\u001b[0;32m      1\u001b[0m \u001b[1;31m# Теперь надо данные преобразовать для подачи в нейронку\u001b[0m\u001b[1;33m\u001b[0m\u001b[1;33m\u001b[0m\u001b[1;33m\u001b[0m\u001b[0m\n\u001b[0;32m      2\u001b[0m \u001b[1;33m\u001b[0m\u001b[0m\n\u001b[1;32m----> 3\u001b[1;33m \u001b[0mX_train\u001b[0m \u001b[1;33m=\u001b[0m \u001b[0mnp\u001b[0m\u001b[1;33m.\u001b[0m\u001b[0mndarray\u001b[0m\u001b[1;33m(\u001b[0m\u001b[0mimg_str_list\u001b[0m\u001b[1;33m)\u001b[0m\u001b[1;33m\u001b[0m\u001b[1;33m\u001b[0m\u001b[0m\n\u001b[0m",
      "\u001b[1;31mValueError\u001b[0m: maximum supported dimension for an ndarray is 32, found 40"
     ]
    }
   ],
   "source": [
    "# Теперь надо данные преобразовать для подачи в нейронку\n",
    "\n",
    "X_train = np.ndarray(img_str_list)"
   ]
  },
  {
   "cell_type": "code",
   "execution_count": null,
   "metadata": {},
   "outputs": [],
   "source": [
    "### Теперь попробуем сделать модель для дополнения картинки\n",
    "\n",
    "model = Sequential()\n",
    "model.add(InputLayer(input_shape=(None, None, 1)))\n",
    "model.add(Conv2D(64, (3, 3), activation='relu', padding='same'))\n",
    "model.add(Conv2D(64, (3, 3), activation='relu', padding='same', strides=2))\n",
    "model.add(Conv2D(128, (3, 3), activation='relu', padding='same'))\n",
    "model.add(Conv2D(128, (3, 3), activation='relu', padding='same', strides=2))\n",
    "model.add(Conv2D(256, (3, 3), activation='relu', padding='same'))\n",
    "model.add(Conv2D(256, (3, 3), activation='relu', padding='same', strides=2))\n",
    "model.add(Conv2D(512, (3, 3), activation='relu', padding='same'))\n",
    "model.add(Conv2D(256, (3, 3), activation='relu', padding='same'))\n",
    "model.add(Conv2D(128, (3, 3), activation='relu', padding='same'))\n",
    "model.add(UpSampling2D((2, 2)))\n",
    "model.add(Conv2D(64, (3, 3), activation='relu', padding='same'))\n",
    "model.add(UpSampling2D((2, 2)))\n",
    "model.add(Conv2D(32, (3, 3), activation='relu', padding='same'))\n",
    "model.add(Conv2D(2, (3, 3), activation='tanh', padding='same'))\n",
    "model.add(UpSampling2D((2, 2)))\n",
    "\n"
   ]
  },
  {
   "cell_type": "code",
   "execution_count": null,
   "metadata": {},
   "outputs": [],
   "source": [
    "# Попробуем тессерактом читануть\n",
    "from PIL import Image\n",
    "import pytesseract\n",
    "\n",
    "test0 = cv2.imread('Train\\\\source_0.png')[0:50]\n",
    "\n",
    "test1 = cv2.cvtColor(test0, cv2.COLOR_BGR2RGB)\n",
    "\n",
    "# Делаем так, чтобы высота букв была примерно 32 пикселя. Это полезно.\n",
    "n_str = 24\n",
    "n_str = 1\n",
    "str_height_curr = test1.shape[0] // n_str - 1\n",
    "coeff =  32 / str_height_curr\n",
    "new_h = int(coeff*test0.shape[0])\n",
    "new_w = int(coeff*test0.shape[1])\n",
    "test2 = cv2.resize(test1, (new_w,new_h))\n",
    "\n",
    "\n",
    "pytesseract.pytesseract.tesseract_cmd = r'C:\\Program Files\\Tesseract-OCR\\tesseract.exe'\n",
    "text1 = pytesseract.image_to_string(test1, lang='eng')\n",
    "text2 = pytesseract.image_to_string(test2, lang='eng')\n",
    "print(text1)"
   ]
  },
  {
   "cell_type": "code",
   "execution_count": null,
   "metadata": {},
   "outputs": [],
   "source": []
  }
 ],
 "metadata": {
  "kernelspec": {
   "display_name": "Python 3",
   "language": "python",
   "name": "python3"
  },
  "language_info": {
   "codemirror_mode": {
    "name": "ipython",
    "version": 3
   },
   "file_extension": ".py",
   "mimetype": "text/x-python",
   "name": "python",
   "nbconvert_exporter": "python",
   "pygments_lexer": "ipython3",
   "version": "3.8.8"
  }
 },
 "nbformat": 4,
 "nbformat_minor": 4
}
