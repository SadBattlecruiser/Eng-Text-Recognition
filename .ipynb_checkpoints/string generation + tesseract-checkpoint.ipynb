{
 "cells": [
  {
   "cell_type": "code",
   "execution_count": 1,
   "metadata": {},
   "outputs": [],
   "source": [
    "import numpy as np\n",
    "import pandas as pd\n",
    "import matplotlib.pyplot as plt\n",
    "import cv2\n",
    "\n",
    "import keras as k\n",
    "from keras.layers import Conv2D, UpSampling2D, InputLayer\n",
    "\n",
    "# Придется юзать PIL, т.к. в opencv нет нужных шрифтов\n",
    "from PIL import ImageFont, ImageDraw, Image\n",
    "\n",
    "# Тессеракт в самом низу\n",
    "import pytesseract\n",
    "pytesseract.pytesseract.tesseract_cmd = r'C:\\Program Files\\Tesseract-OCR\\tesseract.exe'"
   ]
  },
  {
   "cell_type": "code",
   "execution_count": 2,
   "metadata": {},
   "outputs": [],
   "source": [
    "# Количество картинок, на которых обучаемся\n",
    "n_train = 80\n",
    "# Количество картинок, которые должны распознать\n",
    "n_test = 20\n",
    "# Картинка, с которой берем размеры изображения\n",
    "img_for_shapes = cv2.imread(\"Train\\\\source_0.png\")\n",
    "# Количество строк в файле\n",
    "n_str = 24\n",
    "# Высота строки в пикселях\n",
    "str_height = img_for_shapes.shape[0] // n_str\n",
    "str_height -= 1 # Компенсируем то, что внизу изображения большое пространство и получается неровно"
   ]
  },
  {
   "cell_type": "code",
   "execution_count": 3,
   "metadata": {},
   "outputs": [
    {
     "name": "stdout",
     "output_type": "stream",
     "text": [
      "Train img shape (1920, 49, 1200)\n",
      "Test img shape (480, 49, 1200)\n"
     ]
    }
   ],
   "source": [
    "# Препроцессинг изображений\n",
    "\n",
    "### Массив изображений строк со всех картинок\n",
    "def files_to_img_str(fnames, fformat, n_examples, first_num, n_str, str_height):\n",
    "    img_str = np.ndarray((n_str*n_examples, str_height, img_for_shapes.shape[1]))\n",
    "    for i in range(n_examples):\n",
    "        # Исходное изображение\n",
    "        img = cv2.imread(fnames + str(first_num+i) + fformat)\n",
    "        # В черно-белое\n",
    "        img = cv2.cvtColor(img, cv2.COLOR_BGR2GRAY)\n",
    "        # Режем на строки\n",
    "        # Берем строку из изображения и пишем в общий массив\n",
    "        for j in range(n_str):\n",
    "            img_str[i*n_str + j] = img[j*str_height : (j+1)*str_height]\n",
    "    return img_str\n",
    "\n",
    "# Картинки для обучения\n",
    "img_str = files_to_img_str('Train\\\\source_', '.png', n_train, 0, n_str, str_height)\n",
    "# Картинки для теста\n",
    "test_img_str = files_to_img_str('Test\\\\source_', '.png', n_test, 700, n_str, str_height)\n",
    "\n",
    "print('Train img shape', img_str.shape)\n",
    "print('Test img shape', test_img_str.shape)"
   ]
  },
  {
   "cell_type": "code",
   "execution_count": 4,
   "metadata": {
    "scrolled": true
   },
   "outputs": [
    {
     "data": {
      "image/png": "[encoded data removed]",
      "text/plain": [
       "<Figure size 432x288 with 1 Axes>"
      ]
     },
     "metadata": {
      "needs_background": "light"
     },
     "output_type": "display_data"
    }
   ],
   "source": [
    "# Пример строки\n",
    "plt.imshow(img_str[0],cmap='gray')\n",
    "plt.show()\n",
    "\n",
    "#cv2.imshow(\"Image\", img_list[1])\n",
    "#cv2.waitKey()\n",
    "#cv2.destroyAllWindows()"
   ]
  },
  {
   "cell_type": "code",
   "execution_count": 5,
   "metadata": {},
   "outputs": [
    {
     "name": "stdout",
     "output_type": "stream",
     "text": [
      "1920\n"
     ]
    },
    {
     "data": {
      "text/plain": [
       "'Departure so attention pronounce satisfied daughters'"
      ]
     },
     "execution_count": 5,
     "metadata": {},
     "output_type": "execute_result"
    }
   ],
   "source": [
    "### Аналогично лист строк со всех изображений\n",
    "def files_to_str_list(fnames, fformat, n_examples, first_num):\n",
    "    str_list = []\n",
    "    for i in range(n_examples):\n",
    "        # Весь файл с текстом\n",
    "        file_name = 'Train\\\\source_' + str(first_num+i) + '.txt'\n",
    "        with open(file_name) as f:\n",
    "            lines = [line.rstrip() for line in f]\n",
    "        str_list = str_list + lines\n",
    "    return str_list\n",
    "\n",
    "str_list = files_to_str_list('Train\\\\source_', '.txt', n_train, 0)\n",
    "print(len(str_list))\n",
    "str_list[0]"
   ]
  },
  {
   "cell_type": "code",
   "execution_count": 6,
   "metadata": {},
   "outputs": [
    {
     "name": "stdout",
     "output_type": "stream",
     "text": [
      "(1920, 49, 1200)\n"
     ]
    }
   ],
   "source": [
    "### Попробуем сгенерировать из текста выходные изображения\n",
    "\n",
    "# PIL из-за шрифтов\n",
    "# Шрифт угадан на myfonts.com/WhatTheFont\n",
    "fontpath = \"fonts//TimesNewRomanPS.otf\"     \n",
    "font = ImageFont.truetype(fontpath, 50)\n",
    "\n",
    "# Аналогично массив изображений от всех строк\n",
    "img_str_out = np.ndarray((n_str*n_train, str_height, img_for_shapes.shape[1]))\n",
    "for i, line in enumerate(str_list):\n",
    "    # Размеры массива изображений строк такие же, как исходные\n",
    "    img_temp = np.ndarray(img_str[0].shape)\n",
    "    img_temp.fill(255)\n",
    "    img_pil = Image.fromarray(img_temp)\n",
    "    # Непосредственно добавляем текст\n",
    "    draw = ImageDraw.Draw(img_pil)\n",
    "    # в скобках координаты угла надписи\n",
    "    draw.text((1, 0),  line  , font = font, fill = (0))\n",
    "    # И обратно в numpy\n",
    "    img_str_out[i] = np.array(img_pil)\n",
    "\n",
    "print(img_str_out.shape)"
   ]
  },
  {
   "cell_type": "code",
   "execution_count": 7,
   "metadata": {},
   "outputs": [
    {
     "data": {
      "image/png": "[encoded data removed]",
      "text/plain": [
       "<Figure size 432x288 with 1 Axes>"
      ]
     },
     "metadata": {
      "needs_background": "light"
     },
     "output_type": "display_data"
    }
   ],
   "source": [
    "# Пример полученной строки\n",
    "test_out = img_str_out[2]\n",
    "plt.imshow(test_out,cmap='gray')\n",
    "plt.show()"
   ]
  },
  {
   "cell_type": "code",
   "execution_count": 8,
   "metadata": {},
   "outputs": [
    {
     "data": {
      "image/png": "[encoded data removed]",
      "text/plain": [
       "<Figure size 432x288 with 1 Axes>"
      ]
     },
     "metadata": {
      "needs_background": "light"
     },
     "output_type": "display_data"
    }
   ],
   "source": [
    "# Что имели до того\n",
    "test_in = img_str[2]\n",
    "plt.imshow(test_in,cmap='gray')\n",
    "plt.show()"
   ]
  },
  {
   "cell_type": "code",
   "execution_count": 9,
   "metadata": {},
   "outputs": [
    {
     "data": {
      "image/png": "[encoded data removed]",
      "text/plain": [
       "<Figure size 432x288 with 1 Axes>"
      ]
     },
     "metadata": {
      "needs_background": "light"
     },
     "output_type": "display_data"
    }
   ],
   "source": [
    "# Наглядно посмотрим в чем разница между сгенерированной и имеющейся\n",
    "\n",
    "img_str_diff = 255-np.abs(test_out - test_in)\n",
    "\n",
    "plt.imshow(img_str_diff,cmap='gray')\n",
    "plt.show()\n",
    "\n",
    "#cv2.imshow(\"Image\", img_str_diff)\n",
    "#cv2.waitKey()\n",
    "#cv2.destroyAllWindows()"
   ]
  },
  {
   "cell_type": "code",
   "execution_count": 10,
   "metadata": {},
   "outputs": [
    {
     "name": "stdout",
     "output_type": "stream",
     "text": [
      "img_str_r shape after reshape (1920, 32, 784)\n",
      "img_str_out_r shape after reshape (1920, 32, 784)\n",
      "test_img_str_r shape after reshape (480, 32, 784)\n"
     ]
    },
    {
     "data": {
      "image/png": "[encoded data removed]",
      "text/plain": [
       "<Figure size 432x288 with 1 Axes>"
      ]
     },
     "metadata": {
      "needs_background": "light"
     },
     "output_type": "display_data"
    }
   ],
   "source": [
    "# Дополнительно уменьшим изображения так, чтобы высота стала 32 пикселя\n",
    "new_height = 32\n",
    "new_width = int(new_height / img_str.shape[1] * img_str.shape[2]) + 1\n",
    "\n",
    "def resize_img_str(img_str, new_height, new_width):\n",
    "    img_str_r = np.ndarray((img_str.shape[0], new_height, new_width))\n",
    "    for i in range(img_str.shape[0]):\n",
    "        img_str_r[i] = cv2.resize(img_str[i],(new_width, new_height))\n",
    "    return img_str_r  \n",
    "\n",
    "# Картинки для обучения\n",
    "img_str_r = resize_img_str(img_str, new_height, new_width)\n",
    "img_str_out_r = resize_img_str(img_str_out, new_height, new_width)\n",
    "# Картинки для теста\n",
    "test_img_str_r = resize_img_str(test_img_str, new_height, new_width)\n",
    "\n",
    "print('img_str_r shape after reshape', img_str_r.shape)\n",
    "print('img_str_out_r shape after reshape', img_str_out_r.shape)\n",
    "print('test_img_str_r shape after reshape', test_img_str_r.shape)\n",
    "plt.imshow(img_str_r[2],cmap='gray')\n",
    "plt.show()"
   ]
  },
  {
   "cell_type": "code",
   "execution_count": 11,
   "metadata": {},
   "outputs": [],
   "source": [
    "# Теперь надо данные преобразовать для подачи в нейронку\n",
    "\n",
    "# Негатив и нормарование + докидываем размерность канала\n",
    "def img_to_input(img):\n",
    "    return np.expand_dims((255 - img)/255, axis=3)\n",
    "\n",
    "X_train = img_to_input(img_str_r)\n",
    "Y_train = img_to_input(img_str_out_r)\n",
    "\n",
    "X_test = img_to_input(test_img_str_r)"
   ]
  },
  {
   "cell_type": "code",
   "execution_count": 12,
   "metadata": {},
   "outputs": [
    {
     "name": "stdout",
     "output_type": "stream",
     "text": [
      "(32, 784, 1)\n",
      "Model: \"sequential\"\n",
      "_________________________________________________________________\n",
      "Layer (type)                 Output Shape              Param #   \n",
      "=================================================================\n",
      "conv2d (Conv2D)              (None, 32, 784, 64)       640       \n",
      "_________________________________________________________________\n",
      "conv2d_1 (Conv2D)            (None, 16, 392, 64)       36928     \n",
      "_________________________________________________________________\n",
      "conv2d_2 (Conv2D)            (None, 16, 392, 128)      73856     \n",
      "_________________________________________________________________\n",
      "conv2d_3 (Conv2D)            (None, 8, 196, 128)       147584    \n",
      "_________________________________________________________________\n",
      "conv2d_4 (Conv2D)            (None, 8, 196, 256)       295168    \n",
      "_________________________________________________________________\n",
      "conv2d_5 (Conv2D)            (None, 4, 98, 256)        590080    \n",
      "_________________________________________________________________\n",
      "conv2d_6 (Conv2D)            (None, 4, 98, 512)        1180160   \n",
      "_________________________________________________________________\n",
      "conv2d_7 (Conv2D)            (None, 4, 98, 256)        1179904   \n",
      "_________________________________________________________________\n",
      "conv2d_8 (Conv2D)            (None, 4, 98, 128)        295040    \n",
      "_________________________________________________________________\n",
      "up_sampling2d (UpSampling2D) (None, 8, 196, 128)       0         \n",
      "_________________________________________________________________\n",
      "conv2d_9 (Conv2D)            (None, 8, 196, 64)        73792     \n",
      "_________________________________________________________________\n",
      "up_sampling2d_1 (UpSampling2 (None, 16, 392, 64)       0         \n",
      "_________________________________________________________________\n",
      "conv2d_10 (Conv2D)           (None, 16, 392, 32)       18464     \n",
      "_________________________________________________________________\n",
      "conv2d_11 (Conv2D)           (None, 16, 392, 1)        289       \n",
      "_________________________________________________________________\n",
      "up_sampling2d_2 (UpSampling2 (None, 32, 784, 1)        0         \n",
      "=================================================================\n",
      "Total params: 3,891,905\n",
      "Trainable params: 3,891,905\n",
      "Non-trainable params: 0\n",
      "_________________________________________________________________\n",
      "None\n"
     ]
    }
   ],
   "source": [
    "### Теперь попробуем сделать модель для дополнения картинки\n",
    "inp_shape = X_train.shape[1:]\n",
    "print(inp_shape)\n",
    "\n",
    "model = k.Sequential()\n",
    "model.add(InputLayer(input_shape=inp_shape))\n",
    "model.add(Conv2D(64, (3, 3), activation='relu', padding='same'))\n",
    "model.add(Conv2D(64, (3, 3), activation='relu', padding='same', strides=2))\n",
    "model.add(Conv2D(128, (3, 3), activation='relu', padding='same'))\n",
    "model.add(Conv2D(128, (3, 3), activation='relu', padding='same', strides=2))\n",
    "model.add(Conv2D(256, (3, 3), activation='relu', padding='same'))\n",
    "model.add(Conv2D(256, (3, 3), activation='relu', padding='same', strides=2))\n",
    "model.add(Conv2D(512, (3, 3), activation='relu', padding='same'))\n",
    "model.add(Conv2D(256, (3, 3), activation='relu', padding='same'))\n",
    "model.add(Conv2D(128, (3, 3), activation='relu', padding='same'))\n",
    "model.add(UpSampling2D((2, 2)))\n",
    "model.add(Conv2D(64, (3, 3), activation='relu', padding='same'))\n",
    "model.add(UpSampling2D((2, 2)))\n",
    "model.add(Conv2D(32, (3, 3), activation='relu', padding='same'))\n",
    "model.add(Conv2D(1, (3, 3), activation='tanh', padding='same'))\n",
    "model.add(UpSampling2D((2, 2)))\n",
    "\n",
    "print(model.summary())\n",
    "\n",
    "model.compile(\n",
    "    optimizer='adam',\n",
    "    #loss='categorical_crossentropy',\n",
    "    loss='mean_squared_error',\n",
    "    #metrics=['mean_squared_error']\n",
    "    )"
   ]
  },
  {
   "cell_type": "code",
   "execution_count": 13,
   "metadata": {
    "scrolled": true
   },
   "outputs": [
    {
     "name": "stdout",
     "output_type": "stream",
     "text": [
      "77/77 [==============================] - 359s 5s/step - loss: 0.0254 - val_loss: 0.0246\n"
     ]
    }
   ],
   "source": [
    "# Обучаемся\n",
    "his = model.fit(X_train, Y_train, batch_size=20, epochs=1, validation_split=0.2)"
   ]
  },
  {
   "cell_type": "code",
   "execution_count": 14,
   "metadata": {},
   "outputs": [
    {
     "name": "stdout",
     "output_type": "stream",
     "text": [
      "INFO:tensorflow:Assets written to: .\\saved_model\\assets\n"
     ]
    }
   ],
   "source": [
    "# Записываем веса в файл\n",
    "model.save('.\\\\saved_model')"
   ]
  },
  {
   "cell_type": "code",
   "execution_count": 12,
   "metadata": {},
   "outputs": [],
   "source": [
    "# Читаем веса из файла\n",
    "model = k.models.load_model('.\\\\saved_model')"
   ]
  },
  {
   "cell_type": "code",
   "execution_count": 15,
   "metadata": {},
   "outputs": [],
   "source": [
    "# Само предсказание\n",
    "y_pred = model.predict(X_test)\n"
   ]
  },
  {
   "cell_type": "code",
   "execution_count": 17,
   "metadata": {
    "scrolled": false
   },
   "outputs": [
    {
     "name": "stdout",
     "output_type": "stream",
     "text": [
      "Wall time: 151 ms\n"
     ]
    },
    {
     "data": {
      "image/png": "[encoded data removed]",
      "text/plain": [
       "<Figure size 432x288 with 1 Axes>"
      ]
     },
     "metadata": {
      "needs_background": "light"
     },
     "output_type": "display_data"
    }
   ],
   "source": [
    "# Теперь выход сети превращаем в выходные gray или rgb изображения\n",
    "\n",
    "def out_to_img(y_pred, to_rgb=True):\n",
    "    # Убираем канал и инвертируем\n",
    "    img_str_pred = (1 - np.squeeze(y_pred, axis=3))\n",
    "    # Нормируем (могут быть больше 1.) и переводим в инты до 255\n",
    "    for i in range(img_str_pred.shape[0]):\n",
    "        img_str_pred[i] = (img_str_pred[i]*255 / img_str_pred[i].max()).astype(np.uint8)\n",
    "    if not to_rgb:    \n",
    "        return img_str_pred\n",
    "    else:\n",
    "        # Новый массив с тремя каналами\n",
    "        shapes = (img_str_pred.shape[0], img_str_pred.shape[1], img_str_pred.shape[2], 3)\n",
    "        img_rgb_str_pred = np.ndarray(shapes, dtype=np.uint8)\n",
    "        for i in range(img_str_pred.shape[0]):\n",
    "            # Нормируем (могут быть больше 1.) и переводим в инты до 255\n",
    "            temp = (img_str_pred[i]*255 / img_str_pred[i].max()).astype(np.uint8)\n",
    "            if temp.max() > 255:\n",
    "                print(temp.max())\n",
    "            # Переводим в rgb\n",
    "            img_rgb_str_pred[i] = cv2.cvtColor(temp, cv2.COLOR_GRAY2RGB).astype(np.uint8)\n",
    "        return img_rgb_str_pred\n",
    "\n",
    "%time img_str_pred = out_to_img(y_pred, to_rgb=True)\n",
    "\n",
    "plt.imshow(img_str_pred[0])\n",
    "plt.show()"
   ]
  },
  {
   "cell_type": "code",
   "execution_count": 18,
   "metadata": {},
   "outputs": [
    {
     "data": {
      "image/png": "[encoded data removed]",
      "text/plain": [
       "<Figure size 432x288 with 1 Axes>"
      ]
     },
     "metadata": {
      "needs_background": "light"
     },
     "output_type": "display_data"
    }
   ],
   "source": [
    "plt.imshow(test_img_str[0],cmap='gray')\n",
    "plt.show()"
   ]
  },
  {
   "cell_type": "code",
   "execution_count": null,
   "metadata": {},
   "outputs": [],
   "source": [
    "# Попробуем тессерактом читануть\n",
    "\n",
    "%time str_pred = [pytesseract.image_to_string(img, lang='eng')[:-1] for img in img_str_pred]\n",
    "str_pred[0]"
   ]
  },
  {
   "cell_type": "code",
   "execution_count": null,
   "metadata": {},
   "outputs": [],
   "source": [
    "# И теперь пишем в файлик\n",
    "out_file = open('.//out.txt', 'w+', encoding='utf-8')\n",
    "for i in range(n_test):\n",
    "    out_file.write(str(700+i) + ' {\\n')\n",
    "    for j in range(n_str):\n",
    "        #print(i*n_str + j)\n",
    "        out_file.write(str_pred[i*n_str + j])\n",
    "    out_file.write('}\\n')\n",
    "out_file.close()"
   ]
  }
 ],
 "metadata": {
  "kernelspec": {
   "display_name": "Python 3",
   "language": "python",
   "name": "python3"
  },
  "language_info": {
   "codemirror_mode": {
    "name": "ipython",
    "version": 3
   },
   "file_extension": ".py",
   "mimetype": "text/x-python",
   "name": "python",
   "nbconvert_exporter": "python",
   "pygments_lexer": "ipython3",
   "version": "3.8.8"
  }
 },
 "nbformat": 4,
 "nbformat_minor": 4
}
